{
 "cells": [
  {
   "cell_type": "code",
   "execution_count": 2,
   "id": "0d95b2ab",
   "metadata": {},
   "outputs": [
    {
     "name": "stdout",
     "output_type": "stream",
     "text": [
      "   columna1  columna2\n",
      "0         1         6\n",
      "1         2         7\n",
      "2         3         8\n",
      "3         4         9\n",
      "4         5        10\n"
     ]
    }
   ],
   "source": [
    "import pandas as pd\n",
    "def convertidor_lista_df(a,b,c,d,e,f,g,h,i,j):\n",
    "\n",
    "  lista1=[a,b,c,d,e]\n",
    "\n",
    "  lista2=[f,g,h,i,j]\n",
    "\n",
    "  dic={\"columna1\":lista1,\"columna2\":lista2}\n",
    "\n",
    "  df=pd.DataFrame(dic)\n",
    "\n",
    "  return df\n",
    "\n",
    "print(convertidor_lista_df(1, 2, 3, 4, 5, 6, 7, 8, 9, 10))"
   ]
  }
 ],
 "metadata": {
  "kernelspec": {
   "display_name": "Python 3 (ipykernel)",
   "language": "python",
   "name": "python3"
  },
  "language_info": {
   "codemirror_mode": {
    "name": "ipython",
    "version": 3
   },
   "file_extension": ".py",
   "mimetype": "text/x-python",
   "name": "python",
   "nbconvert_exporter": "python",
   "pygments_lexer": "ipython3",
   "version": "3.9.7"
  }
 },
 "nbformat": 4,
 "nbformat_minor": 5
}
